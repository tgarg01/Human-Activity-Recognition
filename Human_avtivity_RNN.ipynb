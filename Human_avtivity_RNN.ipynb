{
 "cells": [
  {
   "cell_type": "code",
   "execution_count": 1,
   "metadata": {},
   "outputs": [],
   "source": [
    "import numpy as np\n",
    "import pandas as pd"
   ]
  },
  {
   "cell_type": "code",
   "execution_count": 2,
   "metadata": {},
   "outputs": [],
   "source": [
    "Activities = {\n",
    "    0: 'WALKING',\n",
    "    1: 'WALKING_UPSTAIRS',\n",
    "    2: 'WALKING_DOWNSTAIRS',\n",
    "    3: 'SITTING',\n",
    "    4: 'STANDING',\n",
    "    5: 'LAYING',\n",
    "}"
   ]
  },
  {
   "cell_type": "code",
   "execution_count": 3,
   "metadata": {},
   "outputs": [],
   "source": [
    "DATADIR = 'UCI_HAR_Dataset'\n",
    "\n",
    "SIGNALS = [\n",
    "    \"body_acc_x\",\n",
    "    \"body_acc_y\",\n",
    "    \"body_acc_z\",\n",
    "    \"body_gyro_x\",\n",
    "    \"body_gyro_y\",\n",
    "    \"body_gyro_z\",\n",
    "    \"total_acc_x\",\n",
    "    \"total_acc_y\",\n",
    "    \"total_acc_z\"\n",
    "]"
   ]
  },
  {
   "cell_type": "code",
   "execution_count": 4,
   "metadata": {},
   "outputs": [],
   "source": [
    "def csv_read(filename):\n",
    "    return pd.read_csv(filename, delim_whitespace=True, header=None)\n",
    "\n",
    "def load_signals(subset):\n",
    "    signals_data = []\n",
    "\n",
    "    for signal in SIGNALS:\n",
    "        filename = f'UCI_HAR_Dataset/{subset}/Inertial Signals/{signal}_{subset}.txt'\n",
    "        signals_data.append(\n",
    "            csv_read(filename).as_matrix()\n",
    "        ) \n",
    "    return np.transpose(signals_data, (1, 2, 0))\n",
    "        \n",
    "def load_y(subset):\n",
    "    filename = f'UCI_HAR_Dataset/{subset}/y_{subset}.txt'\n",
    "    y = csv_read(filename)[0]\n",
    "\n",
    "    return pd.get_dummies(y).as_matrix()"
   ]
  },
  {
   "cell_type": "code",
   "execution_count": 5,
   "metadata": {},
   "outputs": [],
   "source": [
    "def load_data():\n",
    "    X_train, X_test = load_signals('train'), load_signals('test')\n",
    "    y_train, y_test = load_y('train'), load_y('test')\n",
    "\n",
    "    return X_train, X_test, y_train, y_test"
   ]
  },
  {
   "cell_type": "code",
   "execution_count": 6,
   "metadata": {},
   "outputs": [],
   "source": [
    "X_train, X_test, Y_train, Y_test = load_data()"
   ]
  },
  {
   "cell_type": "code",
   "execution_count": 7,
   "metadata": {},
   "outputs": [
    {
     "name": "stderr",
     "output_type": "stream",
     "text": [
      "C:\\Users\\hp\\Anaconda3\\lib\\site-packages\\h5py\\__init__.py:36: FutureWarning: Conversion of the second argument of issubdtype from `float` to `np.floating` is deprecated. In future, it will be treated as `np.float64 == np.dtype(float).type`.\n",
      "  from ._conv import register_converters as _register_converters\n"
     ]
    }
   ],
   "source": [
    "np.random.seed(42)\n",
    "import tensorflow as tf\n",
    "tf.set_random_seed(42)\n",
    "\n",
    "session_conf = tf.ConfigProto(\n",
    "    intra_op_parallelism_threads=1,\n",
    "    inter_op_parallelism_threads=1\n",
    ")"
   ]
  },
  {
   "cell_type": "code",
   "execution_count": 8,
   "metadata": {},
   "outputs": [
    {
     "name": "stderr",
     "output_type": "stream",
     "text": [
      "Using TensorFlow backend.\n"
     ]
    }
   ],
   "source": [
    "from keras import backend as K\n",
    "sess = tf.Session(graph=tf.get_default_graph(), config=session_conf)\n",
    "K.set_session(sess)"
   ]
  },
  {
   "cell_type": "code",
   "execution_count": 9,
   "metadata": {},
   "outputs": [],
   "source": [
    "from keras.models import Sequential\n",
    "from keras.layers import LSTM,Dense,Dropout"
   ]
  },
  {
   "cell_type": "code",
   "execution_count": 10,
   "metadata": {},
   "outputs": [],
   "source": [
    "n_epochs = 30\n",
    "batch_size =16\n",
    "n_hidden =32"
   ]
  },
  {
   "cell_type": "code",
   "execution_count": 11,
   "metadata": {},
   "outputs": [
    {
     "name": "stdout",
     "output_type": "stream",
     "text": [
      "128\n",
      "9\n",
      "7352\n",
      "6\n"
     ]
    }
   ],
   "source": [
    "timesteps = len(X_train[1])\n",
    "input_dim = len(X_train[0][0])\n",
    "n_classes = 6\n",
    "\n",
    "print(timesteps)\n",
    "print(input_dim)\n",
    "print(len(X_train))\n",
    "print(n_classes)"
   ]
  },
  {
   "cell_type": "code",
   "execution_count": 12,
   "metadata": {},
   "outputs": [
    {
     "name": "stdout",
     "output_type": "stream",
     "text": [
      "_________________________________________________________________\n",
      "Layer (type)                 Output Shape              Param #   \n",
      "=================================================================\n",
      "lstm_1 (LSTM)                (None, 32)                5376      \n",
      "_________________________________________________________________\n",
      "dropout_1 (Dropout)          (None, 32)                0         \n",
      "_________________________________________________________________\n",
      "dense_1 (Dense)              (None, 6)                 198       \n",
      "=================================================================\n",
      "Total params: 5,574\n",
      "Trainable params: 5,574\n",
      "Non-trainable params: 0\n",
      "_________________________________________________________________\n"
     ]
    }
   ],
   "source": [
    "model = Sequential()\n",
    "model.add(LSTM(n_hidden, input_shape=(timesteps, input_dim)))\n",
    "model.add(Dropout(0.5))\n",
    "model.add(Dense(6,activation='sigmoid'))\n",
    "model.summary()"
   ]
  },
  {
   "cell_type": "code",
   "execution_count": 13,
   "metadata": {},
   "outputs": [],
   "source": [
    "model.compile(loss='categorical_crossentropy', optimizer='rmsprop', metrics=['accuracy'])"
   ]
  },
  {
   "cell_type": "code",
   "execution_count": 14,
   "metadata": {},
   "outputs": [
    {
     "name": "stdout",
     "output_type": "stream",
     "text": [
      "Train on 7352 samples, validate on 2947 samples\n",
      "Epoch 1/30\n",
      "7352/7352 [==============================] - 44s 6ms/step - loss: 1.3105 - acc: 0.4429 - val_loss: 1.1273 - val_acc: 0.4910\n",
      "Epoch 2/30\n",
      "7352/7352 [==============================] - 44s 6ms/step - loss: 0.9807 - acc: 0.5879 - val_loss: 1.0065 - val_acc: 0.5874\n",
      "Epoch 3/30\n",
      "7352/7352 [==============================] - 45s 6ms/step - loss: 0.8340 - acc: 0.6375 - val_loss: 0.7764 - val_acc: 0.6261\n",
      "Epoch 4/30\n",
      "7352/7352 [==============================] - 44s 6ms/step - loss: 0.7218 - acc: 0.6578 - val_loss: 0.7612 - val_acc: 0.5962\n",
      "Epoch 5/30\n",
      "7352/7352 [==============================] - 44s 6ms/step - loss: 0.8193 - acc: 0.6261 - val_loss: 0.9435 - val_acc: 0.5389\n",
      "Epoch 6/30\n",
      "7352/7352 [==============================] - 76s 10ms/step - loss: 0.7005 - acc: 0.6545 - val_loss: 0.7645 - val_acc: 0.6244\n",
      "Epoch 7/30\n",
      "7352/7352 [==============================] - 96s 13ms/step - loss: 0.6373 - acc: 0.6868 - val_loss: 0.7128 - val_acc: 0.6396\n",
      "Epoch 8/30\n",
      "7352/7352 [==============================] - 102s 14ms/step - loss: 0.5952 - acc: 0.7130 - val_loss: 0.7412 - val_acc: 0.6508\n",
      "Epoch 9/30\n",
      "7352/7352 [==============================] - 76s 10ms/step - loss: 0.5499 - acc: 0.7643 - val_loss: 0.6562 - val_acc: 0.7404\n",
      "Epoch 10/30\n",
      "7352/7352 [==============================] - 46s 6ms/step - loss: 0.5247 - acc: 0.7673 - val_loss: 0.6423 - val_acc: 0.7499\n",
      "Epoch 11/30\n",
      "7352/7352 [==============================] - 47s 6ms/step - loss: 0.4852 - acc: 0.7903 - val_loss: 0.4843 - val_acc: 0.7937\n",
      "Epoch 12/30\n",
      "7352/7352 [==============================] - 46s 6ms/step - loss: 0.4490 - acc: 0.8111 - val_loss: 0.5086 - val_acc: 0.7950\n",
      "Epoch 13/30\n",
      "7352/7352 [==============================] - 47s 6ms/step - loss: 0.4281 - acc: 0.8243 - val_loss: 0.5143 - val_acc: 0.8151\n",
      "Epoch 14/30\n",
      "7352/7352 [==============================] - 49s 7ms/step - loss: 0.4233 - acc: 0.8319 - val_loss: 0.5479 - val_acc: 0.8062\n",
      "Epoch 15/30\n",
      "7352/7352 [==============================] - 47s 6ms/step - loss: 0.3880 - acc: 0.8596 - val_loss: 0.4789 - val_acc: 0.8252\n",
      "Epoch 16/30\n",
      "7352/7352 [==============================] - 48s 6ms/step - loss: 0.3804 - acc: 0.8802 - val_loss: 0.4531 - val_acc: 0.8402\n",
      "Epoch 17/30\n",
      "7352/7352 [==============================] - 48s 7ms/step - loss: 0.3609 - acc: 0.8942 - val_loss: 0.4795 - val_acc: 0.8575\n",
      "Epoch 18/30\n",
      "7352/7352 [==============================] - 48s 7ms/step - loss: 0.3418 - acc: 0.8992 - val_loss: 0.5305 - val_acc: 0.8449\n",
      "Epoch 19/30\n",
      "7352/7352 [==============================] - 46s 6ms/step - loss: 0.3230 - acc: 0.9002 - val_loss: 0.5390 - val_acc: 0.8456\n",
      "Epoch 20/30\n",
      "7352/7352 [==============================] - 47s 6ms/step - loss: 0.2594 - acc: 0.9233 - val_loss: 0.5154 - val_acc: 0.8653\n",
      "Epoch 21/30\n",
      "7352/7352 [==============================] - 47s 6ms/step - loss: 0.2687 - acc: 0.9206 - val_loss: 0.3184 - val_acc: 0.8873\n",
      "Epoch 22/30\n",
      "7352/7352 [==============================] - 47s 6ms/step - loss: 0.2363 - acc: 0.9300 - val_loss: 0.4059 - val_acc: 0.8839\n",
      "Epoch 23/30\n",
      "7352/7352 [==============================] - 47s 6ms/step - loss: 0.2309 - acc: 0.9289 - val_loss: 0.3891 - val_acc: 0.8711\n",
      "Epoch 24/30\n",
      "7352/7352 [==============================] - 47s 6ms/step - loss: 0.2126 - acc: 0.9314 - val_loss: 0.4628 - val_acc: 0.8809\n",
      "Epoch 25/30\n",
      "7352/7352 [==============================] - 48s 7ms/step - loss: 0.2016 - acc: 0.9304 - val_loss: 0.3704 - val_acc: 0.8904\n",
      "Epoch 26/30\n",
      "7352/7352 [==============================] - 49s 7ms/step - loss: 0.2068 - acc: 0.9347 - val_loss: 0.4197 - val_acc: 0.8901\n",
      "Epoch 27/30\n",
      "7352/7352 [==============================] - 48s 7ms/step - loss: 0.2156 - acc: 0.9332 - val_loss: 0.3583 - val_acc: 0.9084\n",
      "Epoch 28/30\n",
      "7352/7352 [==============================] - 51s 7ms/step - loss: 0.1848 - acc: 0.9407 - val_loss: 0.3154 - val_acc: 0.9053\n",
      "Epoch 29/30\n",
      "7352/7352 [==============================] - 49s 7ms/step - loss: 0.1729 - acc: 0.9414 - val_loss: 0.2884 - val_acc: 0.9108\n",
      "Epoch 30/30\n",
      "7352/7352 [==============================] - 50s 7ms/step - loss: 0.1778 - acc: 0.9414 - val_loss: 0.3483 - val_acc: 0.8972\n"
     ]
    },
    {
     "data": {
      "text/plain": [
       "<keras.callbacks.History at 0x2517b4b2cc0>"
      ]
     },
     "execution_count": 14,
     "metadata": {},
     "output_type": "execute_result"
    }
   ],
   "source": [
    "model.fit(X_train, Y_train, epochs=n_epochs, batch_size=batch_size, validation_data=(X_test,Y_test))"
   ]
  },
  {
   "cell_type": "code",
   "execution_count": 15,
   "metadata": {},
   "outputs": [],
   "source": [
    "Y_pred = model.predict(X_test)\n",
    "    y_pred = pd.Series([Activities[y] for y in np.argmax(Y_pred, axis=1)])\n",
    "\n",
    "    y_test = pd.Series([Activities[y] for y in np.argmax(Y_test, axis=1)])"
   ]
  },
  {
   "cell_type": "code",
   "execution_count": 18,
   "metadata": {},
   "outputs": [
    {
     "name": "stdout",
     "output_type": "stream",
     "text": [
      "[[534   3   0   0   0   0]\n",
      " [  2 416  71   0   0   2]\n",
      " [  0 118 413   1   0   0]\n",
      " [  0   1   0 480  11   4]\n",
      " [  0   0   0   9 402   9]\n",
      " [  0   1   2  60   9 399]]\n"
     ]
    },
    {
     "data": {
      "image/png": "[encoded data removed]",
      "text/plain": [
       "<matplotlib.figure.Figure at 0x2517c36b7f0>"
      ]
     },
     "metadata": {},
     "output_type": "display_data"
    }
   ],
   "source": [
    "from sklearn.metrics import confusion_matrix\n",
    "cm=confusion_matrix(y_test, y_pred)\n",
    "print(cm)\n",
    "labels=['LAYING', 'SITTING','STANDING','WALKING','WALKING_DOWNSTAIRS','WALKING_UPSTAIRS']\n",
    "cm_df = pd.DataFrame(cm,index=labels, columns =labels)\n",
    "\n",
    "import matplotlib.pyplot as plt\n",
    "import seaborn as sns\n",
    "\n",
    "#plt.figure(figsize=(8,8))\n",
    "sns.heatmap(cm_df, annot=True, fmt='d', cmap='cool', linewidth=5)\n",
    "plt.xlabel('Predicted values')\n",
    "plt.ylabel('True values')\n",
    "plt.xticks(rotation=90)\n",
    "plt.title('Confusion Matrix')\n",
    "plt.show()"
   ]
  },
  {
   "cell_type": "code",
   "execution_count": 19,
   "metadata": {},
   "outputs": [
    {
     "name": "stdout",
     "output_type": "stream",
     "text": [
      "2947/2947 [==============================] - 2s 619us/step\n"
     ]
    },
    {
     "data": {
      "text/plain": [
       "[0.34830292502909893, 0.8971835765387189]"
      ]
     },
     "execution_count": 19,
     "metadata": {},
     "output_type": "execute_result"
    }
   ],
   "source": [
    "score = model.evaluate(X_test, Y_test)\n",
    "print(\"Accuracy = \", score[1]*100)"
   ]
  },
  {
   "cell_type": "code",
   "execution_count": null,
   "metadata": {},
   "outputs": [],
   "source": []
  }
 ],
 "metadata": {
  "kernelspec": {
   "display_name": "Python 3",
   "language": "python",
   "name": "python3"
  },
  "language_info": {
   "codemirror_mode": {
    "name": "ipython",
    "version": 3
   },
   "file_extension": ".py",
   "mimetype": "text/x-python",
   "name": "python",
   "nbconvert_exporter": "python",
   "pygments_lexer": "ipython3",
   "version": "3.8.3"
  }
 },
 "nbformat": 4,
 "nbformat_minor": 2
}
